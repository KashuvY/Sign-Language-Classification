{
 "cells": [
  {
   "cell_type": "markdown",
   "id": "6571f144",
   "metadata": {},
   "source": [
    "# Final Project - Training Data"
   ]
  },
  {
   "cell_type": "markdown",
   "id": "df64d7e6",
   "metadata": {},
   "source": [
    "This Notebook loads and displays some examples from the training dataset.\n",
    "\n",
    "The training dataset contains a total of 8443 samples. All groups have been given the same training dataset and the final report will be graded based on the performance on this training data.\n",
    "\n",
    "* You should expect the test dataset to have the same format as the training data: $270,000\\times M$ ```numpy``` array, where $M$ is the number of test samples.\n",
    "* This means that *any* pre-processing applied in the training data should also be applied in the test data."
   ]
  },
  {
   "cell_type": "code",
   "execution_count": 2,
   "id": "03787982",
   "metadata": {
    "tags": []
   },
   "outputs": [],
   "source": [
    "import cv2\n",
    "from skimage.feature import hog\n",
    "from sklearn.model_selection import train_test_split\n",
    "from sklearn.preprocessing import StandardScaler\n",
    "from sklearn.svm import SVC\n",
    "from sklearn.metrics import accuracy_score\n",
    "import numpy as np\n",
    "import pandas as pd\n",
    "from sklearn.preprocessing import LabelBinarizer\n",
    "from sklearn.model_selection import GridSearchCV"
   ]
  },
  {
   "cell_type": "code",
   "execution_count": 3,
   "id": "99ec777f-db6d-42ef-8d93-32d762ca692c",
   "metadata": {
    "tags": []
   },
   "outputs": [],
   "source": [
    "# Load data\n",
    "data_array = np.load('data.npy').T\n",
    "label_array = np.load('labels.npy')\n",
    "\n",
    "train_df, test_df, train_df_labels, test_df_labels = train_test_split(pd.DataFrame(data_array), pd.DataFrame(label_array), test_size=0.2, random_state=42)"
   ]
  },
  {
   "cell_type": "code",
   "execution_count": 4,
   "id": "ac035379-bce9-4fda-bc19-b34df993429f",
   "metadata": {
    "tags": []
   },
   "outputs": [],
   "source": [
    "# reshaping data to 300x300,3 for RGB images of 300 by 300 pixels\n",
    "X_train = train_df.values.reshape(-1,300,300,3)\n",
    "X_test=test_df.values.reshape(-1,300,300,3)\n",
    "\n",
    "y_train = train_df_labels.values.ravel()\n",
    "y_test=test_df_labels.values.ravel()"
   ]
  },
  {
   "cell_type": "code",
   "execution_count": 5,
   "id": "ea4a977e-a063-4a58-8c05-6e06c96e3915",
   "metadata": {},
   "outputs": [],
   "source": [
    "def extract_hog_features(images):\n",
    "    hog_features = []\n",
    "    for image in images:\n",
    "        # Convert the image to grayscale\n",
    "        gray_image = cv2.cvtColor(image, cv2.COLOR_BGR2GRAY)\n",
    "        # Compute HOG features\n",
    "        features, _ = hog(gray_image, pixels_per_cell=(8, 8), cells_per_block=(2, 2), visualize=True)\n",
    "        hog_features.append(features)\n",
    "    return hog_features\n",
    "\n",
    "# Extract HOG features for training and testing sets\n",
    "X_train_hog = extract_hog_features(X_train)\n",
    "X_test_hog = extract_hog_features(X_test)"
   ]
  },
  {
   "cell_type": "code",
   "execution_count": 6,
   "id": "30417309-90a4-4205-b0b9-00b5ffa48f11",
   "metadata": {},
   "outputs": [],
   "source": [
    "scaler = StandardScaler()\n",
    "X_train_hog = scaler.fit_transform(X_train_hog)\n",
    "X_test_hog = scaler.transform(X_test_hog)"
   ]
  },
  {
   "cell_type": "code",
   "execution_count": 7,
   "id": "47577088-caf3-464f-9d11-bcaf79baec05",
   "metadata": {
    "tags": []
   },
   "outputs": [
    {
     "name": "stdout",
     "output_type": "stream",
     "text": [
      "(216, 46656)\n",
      "(54, 46656)\n"
     ]
    }
   ],
   "source": [
    "print(X_train_hog.shape)\n",
    "print(X_test_hog.shape)"
   ]
  },
  {
   "cell_type": "code",
   "execution_count": 11,
   "id": "e34ddc12-5e5c-42c8-a4ca-a47d46f25dc2",
   "metadata": {},
   "outputs": [
    {
     "name": "stdout",
     "output_type": "stream",
     "text": [
      "Best Parameters: {'C': 10, 'kernel': 'sigmoid'}\n"
     ]
    }
   ],
   "source": [
    "# Define the parameter grid\n",
    "param_grid = {\n",
    "    'kernel': ['linear', 'rbf', 'poly', 'sigmoid'],\n",
    "    'C': [0.1, 1, 10, 100]  # Adjust the values based on your preferences\n",
    "}\n",
    "\n",
    "# Create an SVM classifier\n",
    "svm_classifier = SVC()\n",
    "\n",
    "# Create a GridSearchCV object\n",
    "grid_search = GridSearchCV(svm_classifier, param_grid, cv=5, scoring='accuracy')\n",
    "\n",
    "# Fit the GridSearchCV object to the data\n",
    "grid_search.fit(X_train_hog, y_train)\n",
    "\n",
    "# Print the best parameters\n",
    "print(\"Best Parameters:\", grid_search.best_params_)"
   ]
  },
  {
   "cell_type": "code",
   "execution_count": 12,
   "id": "8a8394ef-764c-45db-b3c3-5b77ac10ef08",
   "metadata": {},
   "outputs": [],
   "source": [
    "# Get the best SVM classifier\n",
    "best_svm_classifier = grid_search.best_estimator_"
   ]
  },
  {
   "cell_type": "code",
   "execution_count": 15,
   "id": "0b9e7a1d-ec1a-4a3b-80de-89026ee71587",
   "metadata": {
    "tags": []
   },
   "outputs": [
    {
     "name": "stdout",
     "output_type": "stream",
     "text": [
      "Accuracy in Training: 100.00%\n"
     ]
    }
   ],
   "source": [
    "y_pred_train = best_svm_classifier.predict(X_train_hog)\n",
    "accuracy = accuracy_score(y_train, y_pred_train)\n",
    "print(f\"Accuracy in Training: {accuracy * 100:.2f}%\")"
   ]
  },
  {
   "cell_type": "code",
   "execution_count": 16,
   "id": "dda4f23c-6c55-4d12-a058-19f933e1fd24",
   "metadata": {},
   "outputs": [
    {
     "name": "stdout",
     "output_type": "stream",
     "text": [
      "Accuracy in Test: 59.26%\n"
     ]
    }
   ],
   "source": [
    "y_pred = best_svm_classifier.predict(X_test_hog)\n",
    "accuracy = accuracy_score(y_test, y_pred)\n",
    "print(f\"Accuracy in Test: {accuracy * 100:.2f}%\")"
   ]
  },
  {
   "cell_type": "markdown",
   "id": "b1438027",
   "metadata": {},
   "source": [
    "---"
   ]
  }
 ],
 "metadata": {
  "kernelspec": {
   "display_name": "Tensorflow-2.7.0",
   "language": "python",
   "name": "tensorflow-2.7.0"
  },
  "language_info": {
   "codemirror_mode": {
    "name": "ipython",
    "version": 3
   },
   "file_extension": ".py",
   "mimetype": "text/x-python",
   "name": "python",
   "nbconvert_exporter": "python",
   "pygments_lexer": "ipython3",
   "version": "3.9.12"
  },
  "latex_envs": {
   "LaTeX_envs_menu_present": true,
   "autoclose": false,
   "autocomplete": true,
   "bibliofile": "biblio.bib",
   "cite_by": "apalike",
   "current_citInitial": 1,
   "eqLabelWithNumbers": true,
   "eqNumInitial": 1,
   "hotkeys": {
    "equation": "Ctrl-E",
    "itemize": "Ctrl-I"
   },
   "labels_anchors": false,
   "latex_user_defs": false,
   "report_style_numbering": false,
   "user_envs_cfg": false
  },
  "varInspector": {
   "cols": {
    "lenName": 16,
    "lenType": 16,
    "lenVar": 40
   },
   "kernels_config": {
    "python": {
     "delete_cmd_postfix": "",
     "delete_cmd_prefix": "del ",
     "library": "var_list.py",
     "varRefreshCmd": "print(var_dic_list())"
    },
    "r": {
     "delete_cmd_postfix": ") ",
     "delete_cmd_prefix": "rm(",
     "library": "var_list.r",
     "varRefreshCmd": "cat(var_dic_list()) "
    }
   },
   "types_to_exclude": [
    "module",
    "function",
    "builtin_function_or_method",
    "instance",
    "_Feature"
   ],
   "window_display": false
  }
 },
 "nbformat": 4,
 "nbformat_minor": 5
}
