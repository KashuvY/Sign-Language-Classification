{
 "cells": [
  {
   "cell_type": "markdown",
   "id": "f411b981-1ac1-4015-9f51-be00a468c998",
   "metadata": {},
   "source": [
    "# Execution Notebook"
   ]
  },
  {
   "cell_type": "code",
   "execution_count": null,
   "id": "6e31511c-3edb-4a4a-87b9-59bb812993a9",
   "metadata": {},
   "outputs": [],
   "source": [
    "from hard_test import test"
   ]
  },
  {
   "cell_type": "code",
   "execution_count": null,
   "id": "70ef9801-985b-4113-9421-acd75a90814d",
   "metadata": {},
   "outputs": [],
   "source": [
    "accuracy, predicted_labels = test(data_test_file_path = \"path/to/your/test_data.npy\",\n",
    "                                  labels_test_file_path = \"path/to/your/test_labels.npy\"\n",
    "                                  )"
   ]
  }
 ],
 "metadata": {
  "kernelspec": {
   "display_name": "Tensorflow-2.7.0",
   "language": "python",
   "name": "tensorflow-2.7.0"
  },
  "language_info": {
   "codemirror_mode": {
    "name": "ipython",
    "version": 3
   },
   "file_extension": ".py",
   "mimetype": "text/x-python",
   "name": "python",
   "nbconvert_exporter": "python",
   "pygments_lexer": "ipython3",
   "version": "3.9.12"
  }
 },
 "nbformat": 4,
 "nbformat_minor": 5
}
