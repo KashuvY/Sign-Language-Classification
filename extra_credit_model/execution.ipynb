from hard_test import test
accuracy, predicted_labels = test(data_test_file_path = "path/to/your/test_data.npy",
                                  labels_test_file_path = "path/to/your/test_labels.npy"
                                  )
