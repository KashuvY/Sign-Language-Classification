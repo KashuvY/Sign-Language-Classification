{
 "cells": [
  {
   "cell_type": "markdown",
   "id": "6571f144",
   "metadata": {},
   "source": [
    "# Final Project - Training Data"
   ]
  },
  {
   "cell_type": "markdown",
   "id": "df64d7e6",
   "metadata": {},
   "source": [
    "This Notebook loads and displays some examples from the training dataset.\n",
    "\n",
    "The training dataset contains a total of 8443 samples. All groups have been given the same training dataset and the final report will be graded based on the performance on this training data.\n",
    "\n",
    "* You should expect the test dataset to have the same format as the training data: $270,000\\times M$ ```numpy``` array, where $M$ is the number of test samples.\n",
    "* This means that *any* pre-processing applied in the training data should also be applied in the test data."
   ]
  },
  {
   "cell_type": "markdown",
   "id": "b1438027",
   "metadata": {},
   "source": [
    "---"
   ]
  },
  {
   "cell_type": "code",
   "execution_count": 2,
   "id": "ad41a344-1f3c-4b1d-a723-e9e9e4625ba6",
   "metadata": {},
   "outputs": [],
   "source": [
    "import tensorflow as tf\n",
    "from tensorflow.keras.datasets import mnist\n",
    "from tensorflow.keras.preprocessing.image import Iterator\n",
    "from tensorflow.keras.layers import Input\n",
    "from tensorflow.keras.layers import Dense, Flatten, Convolution2D, MaxPooling2D, Dropout\n",
    "from tensorflow.keras.models import Model\n",
    "from utils import RotNetDataGenerator, crop_largest_rectangle, angle_error, rotate, binarize_images, display_examples\n",
    "from tensorflow.keras.callbacks import ModelCheckpoint\n",
    "from tensorflow.keras.callbacks import EarlyStopping\n",
    "from tensorflow.keras.callbacks import TensorBoard\n",
    "import numpy as np\n",
    "from skimage.transform import resize\n",
    "import pickle\n",
    "import matplotlib.pyplot as plt\n",
    "import pandas as pd\n",
    "from sklearn.preprocessing import LabelBinarizer"
   ]
  },
  {
   "cell_type": "code",
   "execution_count": 4,
   "id": "158a21ce-0a61-4d4a-a97e-3b5e6dfa20c3",
   "metadata": {},
   "outputs": [],
   "source": [
    "train_df=pd.read_csv('sign_mnist_train.csv')\n",
    "test_df=pd.read_csv('sign_mnist_test.csv')"
   ]
  },
  {
   "cell_type": "code",
   "execution_count": 5,
   "id": "21e67f5f-7698-4b88-8c81-6f211432769f",
   "metadata": {},
   "outputs": [],
   "source": [
    "train_label=train_df['label']\n",
    "train_label.head()\n",
    "trainset=train_df.drop(['label'],axis=1)"
   ]
  },
  {
   "cell_type": "code",
   "execution_count": 6,
   "id": "c763a6e2-c8be-486e-8003-dff08149dd7b",
   "metadata": {},
   "outputs": [
    {
     "name": "stdout",
     "output_type": "stream",
     "text": [
      "(1726, 28, 28, 1)\n"
     ]
    }
   ],
   "source": [
    "X_train = trainset.values\n",
    "X_train = trainset.values.reshape(-1,28,28,1)\n",
    "print(X_train.shape)"
   ]
  },
  {
   "cell_type": "code",
   "execution_count": 11,
   "id": "24f2cd5d-4803-433e-b407-cd488b377910",
   "metadata": {},
   "outputs": [
    {
     "data": {
      "text/plain": [
       "(28, 28, 1)"
      ]
     },
     "execution_count": 11,
     "metadata": {},
     "output_type": "execute_result"
    }
   ],
   "source": [
    "X_train[0].shape"
   ]
  },
  {
   "cell_type": "code",
   "execution_count": 5,
   "id": "c2557e5b-f892-47e0-90bc-a0b6c69400a0",
   "metadata": {},
   "outputs": [
    {
     "name": "stdout",
     "output_type": "stream",
     "text": [
      "(7172, 784)\n"
     ]
    }
   ],
   "source": [
    "test_label=test_df['label']\n",
    "X_test=test_df.drop(['label'],axis=1)\n",
    "print(X_test.shape)"
   ]
  },
  {
   "cell_type": "code",
   "execution_count": 6,
   "id": "d7e9e58a-4e0b-435b-b86a-f314f84dcbb7",
   "metadata": {},
   "outputs": [],
   "source": [
    "lb=LabelBinarizer()\n",
    "y_train=lb.fit_transform(train_label)\n",
    "y_test=lb.transform(test_label)"
   ]
  },
  {
   "cell_type": "code",
   "execution_count": 7,
   "id": "f385a3fd-526d-4821-a7b6-3bf6d99a20ba",
   "metadata": {},
   "outputs": [],
   "source": [
    "X_test=X_test.values.reshape(-1,28,28,1)"
   ]
  },
  {
   "cell_type": "code",
   "execution_count": 8,
   "id": "73dad616-f164-4695-b2c8-1ff48bf9c112",
   "metadata": {},
   "outputs": [],
   "source": [
    "X_train = np.squeeze(X_train, axis=-1)\n",
    "X_test = np.squeeze(X_test, axis=-1)"
   ]
  },
  {
   "cell_type": "code",
   "execution_count": 9,
   "id": "0ebce624-cc81-4545-9bb6-ad8e759c2c31",
   "metadata": {},
   "outputs": [
    {
     "name": "stdout",
     "output_type": "stream",
     "text": [
      "(27455, 28, 28) (27455, 24) (7172, 28, 28) (7172, 24)\n"
     ]
    }
   ],
   "source": [
    "print(X_train.shape,y_train.shape,X_test.shape,y_test.shape)"
   ]
  },
  {
   "cell_type": "code",
   "execution_count": 10,
   "id": "fc911069-21b9-48ee-8160-6a11f4998f19",
   "metadata": {},
   "outputs": [
    {
     "name": "stderr",
     "output_type": "stream",
     "text": [
      "2023-11-20 17:38:01.801722: I tensorflow/core/platform/cpu_feature_guard.cc:151] This TensorFlow binary is optimized with oneAPI Deep Neural Network Library (oneDNN) to use the following CPU instructions in performance-critical operations:  SSE4.1 SSE4.2 AVX AVX2 FMA\n",
      "To enable them in other operations, rebuild TensorFlow with the appropriate compiler flags.\n",
      "2023-11-20 17:38:03.073326: I tensorflow/core/common_runtime/gpu/gpu_device.cc:1525] Created device /job:localhost/replica:0/task:0/device:GPU:0 with 78911 MB memory:  -> device: 0, name: NVIDIA A100-SXM4-80GB, pci bus id: 0000:0f:00.0, compute capability: 8.0\n",
      "2023-11-20 17:38:03.076698: I tensorflow/core/common_runtime/gpu/gpu_device.cc:1525] Created device /job:localhost/replica:0/task:0/device:GPU:1 with 78911 MB memory:  -> device: 1, name: NVIDIA A100-SXM4-80GB, pci bus id: 0000:47:00.0, compute capability: 8.0\n"
     ]
    }
   ],
   "source": [
    "# number of convolutional filters to use\n",
    "nb_filters = 64\n",
    "# size of pooling area for max pooling\n",
    "pool_size = (2, 2)\n",
    "# convolution kernel size\n",
    "kernel_size = (3, 3)\n",
    "\n",
    "nb_train_samples, img_rows, img_cols = X_train.shape\n",
    "img_channels = 1\n",
    "input_shape = (img_rows, img_cols, img_channels)\n",
    "nb_test_samples = X_test.shape[0]\n",
    "nb_classes = 360\n",
    "\n",
    "# model definition\n",
    "input = Input(shape=(img_rows, img_cols, img_channels))\n",
    "x = Convolution2D(nb_filters, kernel_size[0], kernel_size[1],\n",
    "                  activation='relu')(input)\n",
    "x = Convolution2D(nb_filters, kernel_size[0], kernel_size[1],\n",
    "                  activation='relu')(x)\n",
    "x = MaxPooling2D(pool_size=(2, 2))(x)\n",
    "x = Dropout(0.25)(x)\n",
    "x = Flatten()(x)\n",
    "x = Dense(128, activation='relu')(x)\n",
    "x = Dropout(0.25)(x)\n",
    "x = Dense(nb_classes, activation='softmax')(x)\n",
    "\n",
    "model = Model(inputs=input, outputs=x)"
   ]
  },
  {
   "cell_type": "code",
   "execution_count": 11,
   "id": "5c78282a-e174-408f-b4ae-efcdb9219172",
   "metadata": {},
   "outputs": [],
   "source": [
    "# model compilation\n",
    "model.compile(loss='categorical_crossentropy',\n",
    "              optimizer='adam',\n",
    "              metrics=[angle_error, 'accuracy'])"
   ]
  },
  {
   "cell_type": "code",
   "execution_count": 12,
   "id": "8a4ba698-d491-48dc-a376-6e972bd5da80",
   "metadata": {},
   "outputs": [
    {
     "name": "stdout",
     "output_type": "stream",
     "text": [
      "Epoch 1/50\n"
     ]
    },
    {
     "name": "stderr",
     "output_type": "stream",
     "text": [
      "2023-11-20 17:38:04.953674: I tensorflow/stream_executor/cuda/cuda_dnn.cc:366] Loaded cuDNN version 8201\n",
      "2023-11-20 17:38:06.553007: I tensorflow/stream_executor/cuda/cuda_blas.cc:1774] TensorFloat-32 will be used for the matrix multiplication. This will only be logged once.\n"
     ]
    },
    {
     "name": "stdout",
     "output_type": "stream",
     "text": [
      "209/214 [============================>.] - ETA: 0s - loss: 1.1071 - angle_error: 38.6576 - accuracy: 0.6476"
     ]
    },
    {
     "name": "stderr",
     "output_type": "stream",
     "text": [
      "2023-11-20 17:38:10.161202: W tensorflow/python/util/util.cc:368] Sets are not currently considered sequences, but this may change in the future, so consider avoiding using them.\n"
     ]
    },
    {
     "name": "stdout",
     "output_type": "stream",
     "text": [
      "INFO:tensorflow:Assets written to: rotnet/assets\n",
      "214/214 [==============================] - 7s 16ms/step - loss: 1.0831 - angle_error: 37.7938 - accuracy: 0.6554 - val_loss: 0.0276 - val_angle_error: 0.5022 - val_accuracy: 0.9944\n",
      "Epoch 2/50\n",
      "210/214 [============================>.] - ETA: 0s - loss: 0.0498 - angle_error: 1.0045 - accuracy: 0.9888INFO:tensorflow:Assets written to: rotnet/assets\n",
      "214/214 [==============================] - 3s 14ms/step - loss: 0.0491 - angle_error: 0.9923 - accuracy: 0.9890 - val_loss: 0.0089 - val_angle_error: 0.1758 - val_accuracy: 0.9980\n",
      "Epoch 3/50\n",
      "214/214 [==============================] - 3s 12ms/step - loss: 0.0296 - angle_error: 0.6374 - accuracy: 0.9929 - val_loss: 0.0121 - val_angle_error: 0.2511 - val_accuracy: 0.9972\n",
      "Epoch 4/50\n",
      "214/214 [==============================] - 3s 12ms/step - loss: 0.0237 - angle_error: 0.4928 - accuracy: 0.9945 - val_loss: 0.0094 - val_angle_error: 0.1507 - val_accuracy: 0.9983\n"
     ]
    }
   ],
   "source": [
    "# training parameters\n",
    "batch_size = 128\n",
    "nb_epoch = 50\n",
    "output_filename = \"rotnet\"\n",
    "\n",
    "# callbacks\n",
    "checkpointer = ModelCheckpoint(\n",
    "    filepath=output_filename,\n",
    "    save_best_only=True\n",
    ")\n",
    "early_stopping = EarlyStopping(patience=2)\n",
    "tensorboard = TensorBoard()\n",
    "\n",
    "# training loop\n",
    "history = model.fit(\n",
    "    RotNetDataGenerator(X_train, preprocess_func=binarize_images),\n",
    "    steps_per_epoch=nb_train_samples // batch_size,  # Adjust this based on your dataset size\n",
    "    epochs=nb_epoch,\n",
    "    validation_data=RotNetDataGenerator(X_test, preprocess_func=binarize_images),\n",
    "    validation_steps=nb_test_samples // batch_size,  # Adjust this based on your dataset size\n",
    "    verbose=1,\n",
    "    callbacks=[checkpointer, early_stopping, tensorboard]\n",
    ")"
   ]
  },
  {
   "cell_type": "code",
   "execution_count": 13,
   "id": "266e39b3-c9b8-4c98-b143-a352f9feaf90",
   "metadata": {},
   "outputs": [
    {
     "data": {
      "image/png": "[encoded data removed]",
      "text/plain": [
       "<Figure size 432x288 with 1 Axes>"
      ]
     },
     "metadata": {
      "needs_background": "light"
     },
     "output_type": "display_data"
    }
   ],
   "source": [
    "# Access accuracy from history\n",
    "training_accuracy = history.history['accuracy']\n",
    "validation_accuracy = history.history['val_accuracy']\n",
    "\n",
    "# Plot accuracy over epochs\n",
    "plt.plot(training_accuracy, label='Training Accuracy')\n",
    "plt.plot(validation_accuracy, label='Validation Accuracy')\n",
    "plt.xlabel('Epoch')\n",
    "plt.ylabel('Accuracy')\n",
    "plt.legend()\n",
    "plt.show()"
   ]
  },
  {
   "cell_type": "code",
   "execution_count": 14,
   "id": "ace4c0e4-fa16-4e39-8e7d-18ad8226b26a",
   "metadata": {},
   "outputs": [
    {
     "name": "stdout",
     "output_type": "stream",
     "text": [
      "0.9945239424705505\n",
      "0.9983258843421936\n"
     ]
    }
   ],
   "source": [
    "print(training_accuracy[-1])\n",
    "print(validation_accuracy[-1])"
   ]
  },
  {
   "cell_type": "code",
   "execution_count": 15,
   "id": "eb74a25b-29eb-446a-b658-a654ef750d2c",
   "metadata": {},
   "outputs": [
    {
     "name": "stdout",
     "output_type": "stream",
     "text": [
      "True angle:  90\n",
      "Predicted angle:  90\n"
     ]
    }
   ],
   "source": [
    "# randomly rotate an image\n",
    "original_img = X_test[0]\n",
    "rotation_angles = [0, 90, 180, 270]\n",
    "true_angle = np.random.choice(rotation_angles)\n",
    "rotated_img = rotate(original_img, true_angle)\n",
    "print('True angle: ', true_angle)\n",
    "\n",
    "# add dimensions to account for the batch size and channels, \n",
    "rotated_img = rotated_img[np.newaxis, :, :, np.newaxis]\n",
    "# convert to float\n",
    "rotated_img = rotated_img.astype('float32')\n",
    "# binarize image\n",
    "rotated_img_bin = binarize_images(rotated_img)\n",
    "\n",
    "resized_rotated_img = resize(rotated_img_bin[0, :, :, 0], (28, 28))[np.newaxis, :, :, np.newaxis]\n",
    "\n",
    "# predict rotation angle\n",
    "output = model.predict(resized_rotated_img)\n",
    "predicted_angle = np.argmax(output)\n",
    "print('Predicted angle: ', predicted_angle)"
   ]
  },
  {
   "cell_type": "code",
   "execution_count": 16,
   "id": "94e2c220-1c91-4f88-aa17-670ff1d11742",
   "metadata": {},
   "outputs": [
    {
     "data": {
      "image/png": "[encoded data removed]",
      "text/plain": [
       "<Figure size 720x720 with 15 Axes>"
      ]
     },
     "metadata": {
      "needs_background": "light"
     },
     "output_type": "display_data"
    }
   ],
   "source": [
    "num_images = 5\n",
    "\n",
    "display_examples(\n",
    "    model, \n",
    "    X_test,\n",
    "    num_images=num_images,\n",
    "    preprocess_func=binarize_images,\n",
    ")"
   ]
  }
 ],
 "metadata": {
  "kernelspec": {
   "display_name": "Tensorflow-2.7.0",
   "language": "python",
   "name": "tensorflow-2.7.0"
  },
  "language_info": {
   "codemirror_mode": {
    "name": "ipython",
    "version": 3
   },
   "file_extension": ".py",
   "mimetype": "text/x-python",
   "name": "python",
   "nbconvert_exporter": "python",
   "pygments_lexer": "ipython3",
   "version": "3.9.12"
  },
  "latex_envs": {
   "LaTeX_envs_menu_present": true,
   "autoclose": false,
   "autocomplete": true,
   "bibliofile": "biblio.bib",
   "cite_by": "apalike",
   "current_citInitial": 1,
   "eqLabelWithNumbers": true,
   "eqNumInitial": 1,
   "hotkeys": {
    "equation": "Ctrl-E",
    "itemize": "Ctrl-I"
   },
   "labels_anchors": false,
   "latex_user_defs": false,
   "report_style_numbering": false,
   "user_envs_cfg": false
  },
  "varInspector": {
   "cols": {
    "lenName": 16,
    "lenType": 16,
    "lenVar": 40
   },
   "kernels_config": {
    "python": {
     "delete_cmd_postfix": "",
     "delete_cmd_prefix": "del ",
     "library": "var_list.py",
     "varRefreshCmd": "print(var_dic_list())"
    },
    "r": {
     "delete_cmd_postfix": ") ",
     "delete_cmd_prefix": "rm(",
     "library": "var_list.r",
     "varRefreshCmd": "cat(var_dic_list()) "
    }
   },
   "types_to_exclude": [
    "module",
    "function",
    "builtin_function_or_method",
    "instance",
    "_Feature"
   ],
   "window_display": false
  }
 },
 "nbformat": 4,
 "nbformat_minor": 5
}
